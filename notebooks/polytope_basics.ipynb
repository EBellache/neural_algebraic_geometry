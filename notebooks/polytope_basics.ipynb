{
 "cells": [
  {
   "cell_type": "markdown",
   "metadata": {},
   "source": [
    "# Polytope Basics: Introduction to Polytope Visualization\n",
    "\n",
    "This notebook provides a comprehensive introduction to polytope visualization, including:\n",
    "- Basic Platonic solids visualization\n",
    "- Interactive polytope rendering with pythreejs\n",
    "- Spherical harmonic analysis on polytopes\n",
    "- Stereographic projections\n",
    "- Biological applications (bacteria as deformed polytopes)\n",
    "- Polytope tilings and patterns"
   ]
  },
  {
   "cell_type": "markdown",
   "metadata": {},
   "source": [
    "## 1. Setup and Imports"
   ]
  },
  {
   "cell_type": "code",
   "execution_count": null,
   "metadata": {},
   "outputs": [],
   "source": [
    "# Standard imports\n",
    "import numpy as np\n",
    "import jax.numpy as jnp\n",
    "import matplotlib.pyplot as plt\n",
    "from mpl_toolkits.mplot3d import Axes3D\n",
    "import ipywidgets as widgets\n",
    "from IPython.display import display, HTML\n",
    "\n",
    "# Set up matplotlib for notebook\n",
    "plt.style.use('default')\n",
    "%matplotlib inline\n",
    "\n",
    "# Import our polytope modules\n",
    "import sys\n",
    "sys.path.append('..')\n",
    "\n",
    "from src.polytope_core.platonic_solids import (\n",
    "    create_all_platonic_solids,\n",
    "    create_tetrahedron,\n",
    "    create_cube,\n",
    "    create_octahedron,\n",
    "    create_icosahedron,\n",
    "    create_dodecahedron\n",
    ")\n",
    "\n",
    "from src.visualization.polytope_viz import (\n",
    "    PolytopeRenderer,\n",
    "    PolytopeVisualization,\n",
    "    create_platonic_visualizations,\n",
    "    visualize_bacteria_deformation,\n",
    "    StereographicProjectionViewer,\n",
    "    PolytopeSignatureViewer,\n",
    "    create_tiling_visualization\n",
    ")\n",
    "\n",
    "from src.visualization.harmonic_viz import (\n",
    "    SphericalHarmonicVisualizer,\n",
    "    BiologicalHarmonicPatterns,\n",
    "    create_plotly_3d_harmonic\n",
    ")\n",
    "\n",
    "print(\"All modules loaded successfully!\")"
   ]
  },
  {
   "cell_type": "markdown",
   "metadata": {},
   "source": [
    "## 2. Basic Platonic Solids"
   ]
  },
  {
   "cell_type": "markdown",
   "metadata": {},
   "source": [
    "### 2.1 Creating and Visualizing the Five Platonic Solids\n",
    "\n",
    "The Platonic solids are the only convex polyhedra with congruent regular polygonal faces:\n",
    "- **Tetrahedron**: 4 triangular faces\n",
    "- **Cube**: 6 square faces\n",
    "- **Octahedron**: 8 triangular faces\n",
    "- **Dodecahedron**: 12 pentagonal faces\n",
    "- **Icosahedron**: 20 triangular faces"
   ]
  },
  {
   "cell_type": "code",
   "execution_count": null,
   "metadata": {},
   "outputs": [],
   "source": [
    "# Create all Platonic solids\n",
    "platonic_solids = create_all_platonic_solids()\n",
    "\n",
    "# Display their properties\n",
    "for name, solid in platonic_solids.items():\n",
    "    n_vertices = len(solid.vertices)\n",
    "    n_edges = len(solid.edges) if solid.edges.size > 0 else 0\n",
    "    n_faces = len(solid.faces) if solid.faces else 0\n",
    "    \n",
    "    print(f\"\\n{name.upper()}:\")\n",
    "    print(f\"  Vertices: {n_vertices}\")\n",
    "    print(f\"  Edges: {n_edges}\")\n",
    "    print(f\"  Faces: {n_faces}\")\n",
    "    print(f\"  Symmetry group: {solid.symmetry_group}\")\n",
    "    print(f\"  Dual: {solid.dual_name}\")"
   ]
  },
  {
   "cell_type": "markdown",
   "metadata": {},
   "source": [
    "### 2.2 Static Matplotlib Visualization"
   ]
  },
  {
   "cell_type": "code",
   "execution_count": null,
   "metadata": {},
   "outputs": [],
   "source": [
    "# Create a figure showing all Platonic solids\n",
    "fig = plt.figure(figsize=(15, 3))\n",
    "\n",
    "solid_names = ['tetrahedron', 'cube', 'octahedron']\n",
    "colors = ['red', 'blue', 'green']\n",
    "\n",
    "for idx, (name, color) in enumerate(zip(solid_names, colors)):\n",
    "    ax = fig.add_subplot(1, 3, idx+1, projection='3d')\n",
    "    \n",
    "    solid = platonic_solids[name]\n",
    "    vertices = np.array(solid.vertices)\n",
    "    \n",
    "    # Plot vertices\n",
    "    ax.scatter(vertices[:, 0], vertices[:, 1], vertices[:, 2], \n",
    "               c=color, s=100, alpha=0.8, edgecolors='k')\n",
    "    \n",
    "    # Plot edges if available\n",
    "    if solid.edges.size > 0:\n",
    "        edges = np.array(solid.edges)\n",
    "        for edge in edges:\n",
    "            points = vertices[edge]\n",
    "            ax.plot(points[:, 0], points[:, 1], points[:, 2], \n",
    "                   'k-', alpha=0.6, linewidth=2)\n",
    "    \n",
    "    # Set labels and appearance\n",
    "    ax.set_title(name.capitalize(), fontsize=14, weight='bold')\n",
    "    ax.set_xlabel('X')\n",
    "    ax.set_ylabel('Y')\n",
    "    ax.set_zlabel('Z')\n",
    "    ax.set_box_aspect([1,1,1])\n",
    "    \n",
    "    # Remove grid for cleaner look\n",
    "    ax.grid(False)\n",
    "    ax.xaxis.pane.fill = False\n",
    "    ax.yaxis.pane.fill = False\n",
    "    ax.zaxis.pane.fill = False\n",
    "\n",
    "plt.tight_layout()\n",
    "plt.show()"
   ]
  },
  {
   "cell_type": "markdown",
   "metadata": {},
   "source": [
    "## 3. Interactive 3D Visualization with pythreejs"
   ]
  },
  {
   "cell_type": "markdown",
   "metadata": {},
   "source": [
    "### 3.1 Basic Interactive Renderer"
   ]
  },
  {
   "cell_type": "code",
   "execution_count": null,
   "metadata": {},
   "outputs": [],
   "source": [
    "# Create interactive renderer\n",
    "renderer = PolytopeRenderer(width=800, height=600)\n",
    "\n",
    "# Get visualization objects\n",
    "vis_polytopes = create_platonic_visualizations()\n",
    "\n",
    "# Add tetrahedron and octahedron\n",
    "tetrahedron = vis_polytopes['tetrahedron']\n",
    "octahedron = vis_polytopes['octahedron']\n",
    "\n",
    "# Position them side by side\n",
    "tetrahedron_offset = tetrahedron._replace(\n",
    "    vertices=tetrahedron.vertices + jnp.array([-2, 0, 0])\n",
    ")\n",
    "octahedron_offset = octahedron._replace(\n",
    "    vertices=octahedron.vertices + jnp.array([2, 0, 0])\n",
    ")\n",
    "\n",
    "# Add to renderer\n",
    "renderer.add_polytope(tetrahedron_offset, wireframe=True, solid=True, opacity=0.7)\n",
    "renderer.add_polytope(octahedron_offset, wireframe=True, solid=True, opacity=0.7)\n",
    "\n",
    "# Display\n",
    "print(\"Use mouse to rotate, scroll to zoom:\")\n",
    "renderer.render()"
   ]
  },
  {
   "cell_type": "markdown",
   "metadata": {},
   "source": [
    "## 4. Spherical Harmonic Analysis"
   ]
  },
  {
   "cell_type": "markdown",
   "metadata": {},
   "source": [
    "### 4.1 Visualizing Spherical Harmonics on Polytopes\n",
    "\n",
    "Spherical harmonics are the angular portion of the solution to Laplace's equation in spherical coordinates. They form an orthogonal basis for functions on the sphere and are fundamental in:\n",
    "- Quantum mechanics (atomic orbitals)\n",
    "- Shape analysis\n",
    "- Signal processing on the sphere\n",
    "- Biological shape characterization"
   ]
  },
  {
   "cell_type": "code",
   "execution_count": null,
   "metadata": {},
   "outputs": [],
   "source": [
    "# Create spherical harmonic visualizer\n",
    "harmonic_viz = SphericalHarmonicVisualizer(max_l=6)\n",
    "\n",
    "# Use icosahedron vertices for high sampling\n",
    "icosahedron = platonic_solids['icosahedron']\n",
    "vertices = np.array(icosahedron.vertices)\n",
    "\n",
    "# Visualize some key harmonics\n",
    "fig = plt.figure(figsize=(15, 10))\n",
    "\n",
    "# Define harmonics to visualize with biological interpretations\n",
    "harmonics = [\n",
    "    (0, 0, \"Uniform (cell volume)\"),\n",
    "    (1, 0, \"Dipole (cell polarity)\"),\n",
    "    (2, 0, \"Quadrupole (elongation)\"),\n",
    "    (2, 1, \"Oblique elongation (bending)\"),\n",
    "    (3, 0, \"Octupole (branching)\"),\n",
    "    (4, 0, \"Hexadecapole (complex symmetry)\")\n",
    "]\n",
    "\n",
    "for idx, (l, m, description) in enumerate(harmonics):\n",
    "    ax = fig.add_subplot(2, 3, idx+1, projection='3d')\n",
    "    \n",
    "    # Compute harmonic\n",
    "    Y_lm = harmonic_viz.compute_spherical_harmonic(l, m, vertices)\n",
    "    values = np.real(Y_lm)\n",
    "    \n",
    "    # Normalize for coloring\n",
    "    vmin, vmax = values.min(), values.max()\n",
    "    if vmax - vmin < 1e-10:\n",
    "        vmin, vmax = -1, 1\n",
    "    \n",
    "    # Plot with color mapping\n",
    "    scatter = ax.scatter(vertices[:, 0], vertices[:, 1], vertices[:, 2],\n",
    "                        c=values, cmap='RdBu', s=150,\n",
    "                        vmin=vmin, vmax=vmax,\n",
    "                        alpha=0.8, edgecolors='k', linewidth=0.5)\n",
    "    \n",
    "    # Add colorbar\n",
    "    cbar = plt.colorbar(scatter, ax=ax, shrink=0.5, pad=0.1)\n",
    "    cbar.set_label(f'Y_{{{l},{m}}}', rotation=0, labelpad=15)\n",
    "    \n",
    "    # Set title and labels\n",
    "    ax.set_title(f'Y$_{{{l},{m}}}$: {description}', fontsize=12)\n",
    "    ax.set_box_aspect([1,1,1])\n",
    "    \n",
    "    # Clean up axes\n",
    "    ax.set_xticks([])\n",
    "    ax.set_yticks([])\n",
    "    ax.set_zticks([])\n",
    "\n",
    "plt.suptitle('Spherical Harmonics and Their Biological Interpretations', fontsize=16)\n",
    "plt.tight_layout()\n",
    "plt.show()"
   ]
  },
  {
   "cell_type": "markdown",
   "metadata": {},
   "source": [
    "### 4.2 Interactive Harmonic Explorer"
   ]
  },
  {
   "cell_type": "code",
   "execution_count": null,
   "metadata": {},
   "outputs": [],
   "source": [
    "# Create interactive harmonic explorer\n",
    "cube_vertices = np.array(platonic_solids['cube'].vertices)\n",
    "explorer = harmonic_viz.create_interactive_explorer(cube_vertices)\n",
    "display(explorer)"
   ]
  },
  {
   "cell_type": "markdown",
   "metadata": {},
   "source": [
    "## 5. Biological Applications: Bacteria as Deformed Polytopes"
   ]
  },
  {
   "cell_type": "markdown",
   "metadata": {},
   "source": [
    "### 5.1 Visualizing Bacterial Deformations\n",
    "\n",
    "Many biological structures can be modeled as deformed polytopes:\n",
    "- **Bacteria**: Elongated and bent octahedra\n",
    "- **Organelles**: Ellipsoidal deformations with internal structure\n",
    "- **Viral capsids**: Icosahedral symmetry with protein subunits"
   ]
  },
  {
   "cell_type": "code",
   "execution_count": null,
   "metadata": {},
   "outputs": [],
   "source": [
    "# Create bacterial deformation sequence\n",
    "fig = plt.figure(figsize=(15, 5))\n",
    "\n",
    "# Parameters for deformation sequence\n",
    "elongations = [1.0, 1.5, 2.0, 2.5]\n",
    "bendings = [0.0, 0.1, 0.2, 0.3]\n",
    "titles = ['Rest State', 'Slight Elongation', 'Bacterial Shape', 'Highly Deformed']\n",
    "\n",
    "for idx, (elongation, bending, title) in enumerate(zip(elongations, bendings, titles)):\n",
    "    ax = fig.add_subplot(1, 4, idx+1, projection='3d')\n",
    "    \n",
    "    # Create deformed shape\n",
    "    deformed = visualize_bacteria_deformation(\n",
    "        rest_shape='octahedron',\n",
    "        elongation=elongation,\n",
    "        bending=bending,\n",
    "        thickness_variation=0.1\n",
    "    )\n",
    "    \n",
    "    vertices = np.array(deformed.vertices)\n",
    "    edges = np.array(deformed.edges)\n",
    "    \n",
    "    # Plot vertices\n",
    "    ax.scatter(vertices[:, 0], vertices[:, 1], vertices[:, 2],\n",
    "               c='lightgreen', s=100, alpha=0.8, edgecolors='darkgreen')\n",
    "    \n",
    "    # Plot edges\n",
    "    for edge in edges:\n",
    "        points = vertices[edge]\n",
    "        ax.plot(points[:, 0], points[:, 1], points[:, 2],\n",
    "               'darkgreen', alpha=0.6, linewidth=2)\n",
    "    \n",
    "    ax.set_title(title, fontsize=12)\n",
    "    ax.set_box_aspect([1,1,1])\n",
    "    ax.set_xlim([-3, 3])\n",
    "    ax.set_ylim([-1.5, 1.5])\n",
    "    ax.set_zlim([-1.5, 1.5])\n",
    "    \n",
    "    # Remove ticks for cleaner look\n",
    "    ax.set_xticks([])\n",
    "    ax.set_yticks([])\n",
    "    ax.set_zticks([])\n",
    "\n",
    "plt.suptitle('Bacterial Deformation Sequence: From Octahedron to Rod Shape', fontsize=14)\n",
    "plt.tight_layout()\n",
    "plt.show()"
   ]
  },
  {
   "cell_type": "markdown",
   "metadata": {},
   "source": [
    "### 5.2 Harmonic Analysis of Biological Shapes"
   ]
  },
  {
   "cell_type": "code",
   "execution_count": null,
   "metadata": {},
   "outputs": [],
   "source": [
    "# Create biological pattern visualizations\n",
    "bio_patterns = BiologicalHarmonicPatterns()\n",
    "\n",
    "# Get patterns\n",
    "patterns = {\n",
    "    'Bacteria': bio_patterns.bacteria_elongation_pattern(),\n",
    "    'Organelle': bio_patterns.organelle_pattern(),\n",
    "    'Viral Capsid': bio_patterns.viral_capsid_pattern()\n",
    "}\n",
    "\n",
    "# Use octahedron as base shape\n",
    "base_vertices = np.array(platonic_solids['octahedron'].vertices)\n",
    "\n",
    "# Visualize patterns\n",
    "fig = plt.figure(figsize=(15, 5))\n",
    "\n",
    "for idx, (name, pattern) in enumerate(patterns.items()):\n",
    "    ax = fig.add_subplot(1, 3, idx+1, projection='3d')\n",
    "    \n",
    "    # Synthesize shape from harmonics\n",
    "    total_field = np.zeros(len(base_vertices), dtype=complex)\n",
    "    for (l, m), coeff in pattern.items():\n",
    "        Y_lm = harmonic_viz.compute_spherical_harmonic(l, m, base_vertices)\n",
    "        total_field += coeff * Y_lm\n",
    "    \n",
    "    # Use magnitude to scale vertices\n",
    "    magnitudes = np.abs(total_field)\n",
    "    scaled_vertices = base_vertices * magnitudes[:, np.newaxis]\n",
    "    \n",
    "    # Color by phase\n",
    "    phases = np.angle(total_field)\n",
    "    colors = plt.cm.hsv((phases + np.pi) / (2 * np.pi))\n",
    "    \n",
    "    # Plot\n",
    "    scatter = ax.scatter(scaled_vertices[:, 0], scaled_vertices[:, 1], scaled_vertices[:, 2],\n",
    "                        c=colors, s=200, alpha=0.8, edgecolors='k', linewidth=1)\n",
    "    \n",
    "    ax.set_title(f'{name} Pattern', fontsize=14)\n",
    "    ax.set_box_aspect([1,1,1])\n",
    "    \n",
    "    # Add pattern description\n",
    "    pattern_desc = f\"Dominant modes:\\n\"\n",
    "    for i, ((l, m), coeff) in enumerate(list(pattern.items())[:3]):\n",
    "        pattern_desc += f\"Y_{{{l},{m}}}: {abs(coeff):.1f}\\n\"\n",
    "    \n",
    "    ax.text2D(0.02, 0.98, pattern_desc, transform=ax.transAxes,\n",
    "              fontsize=10, verticalalignment='top',\n",
    "              bbox=dict(boxstyle='round', facecolor='wheat', alpha=0.5))\n",
    "\n",
    "plt.tight_layout()\n",
    "plt.show()"
   ]
  },
  {
   "cell_type": "markdown",
   "metadata": {},
   "source": [
    "## 6. Stereographic Projections"
   ]
  },
  {
   "cell_type": "markdown",
   "metadata": {},
   "source": [
    "### 6.1 Understanding Stereographic Projection\n",
    "\n",
    "Stereographic projection maps points on a sphere to a plane. It:\n",
    "- Preserves angles (conformal)\n",
    "- Maps circles to circles (or lines)\n",
    "- Is used in crystallography, complex analysis, and topology"
   ]
  },
  {
   "cell_type": "code",
   "execution_count": null,
   "metadata": {},
   "outputs": [],
   "source": [
    "# Create stereographic projection viewer\n",
    "stereo_viewer = StereographicProjectionViewer(fig_size=(12, 6))\n",
    "\n",
    "# Project different polytopes\n",
    "polytopes_to_project = ['tetrahedron', 'cube', 'octahedron']\n",
    "\n",
    "for name in polytopes_to_project:\n",
    "    polytope_vis = vis_polytopes[name]\n",
    "    stereo_viewer.visualize_projection(polytope_vis, show_sphere=True)\n",
    "    plt.suptitle(f'Stereographic Projection of {name.capitalize()}', fontsize=16)\n",
    "    plt.show()"
   ]
  },
  {
   "cell_type": "markdown",
   "metadata": {},
   "source": [
    "## 7. Polytope Signatures and Comparison"
   ]
  },
  {
   "cell_type": "markdown",
   "metadata": {},
   "source": [
    "### 7.1 Computing Harmonic Signatures\n",
    "\n",
    "Each polytope has a unique \"harmonic signature\" - its decomposition into spherical harmonics. This signature can be used for:\n",
    "- Shape classification\n",
    "- Symmetry detection\n",
    "- Biological structure identification"
   ]
  },
  {
   "cell_type": "code",
   "execution_count": null,
   "metadata": {},
   "outputs": [],
   "source": [
    "# Create signature viewer\n",
    "sig_viewer = PolytopeSignatureViewer(fig_size=(12, 8))\n",
    "\n",
    "# Compare signatures of basic polytopes\n",
    "polytopes_to_compare = {\n",
    "    name: vis for name, vis in vis_polytopes.items() \n",
    "    if name in ['tetrahedron', 'cube', 'octahedron']\n",
    "}\n",
    "\n",
    "# Add a deformed bacteria shape\n",
    "bacteria_shape = visualize_bacteria_deformation(\n",
    "    rest_shape='octahedron',\n",
    "    elongation=2.0,\n",
    "    bending=0.2\n",
    ")\n",
    "polytopes_to_compare['bacteria'] = bacteria_shape\n",
    "\n",
    "# Visualize and compare signatures\n",
    "sig_viewer.visualize_signatures(polytopes_to_compare)"
   ]
  },
  {
   "cell_type": "markdown",
   "metadata": {},
   "source": [
    "## 8. Polytope Tilings"
   ]
  },
  {
   "cell_type": "markdown",
   "metadata": {},
   "source": [
    "### 8.1 Cubic Tiling of Space\n",
    "\n",
    "Some polytopes can tile 3D space without gaps:\n",
    "- **Cubic tiling**: Simple cubic lattice\n",
    "- **Truncated octahedral tiling**: Space-filling with truncated octahedra\n",
    "- **Quasicrystalline tilings**: Aperiodic tilings with icosahedral symmetry"
   ]
  },
  {
   "cell_type": "code",
   "execution_count": null,
   "metadata": {},
   "outputs": [],
   "source": [
    "# Create small cubic tiling\n",
    "cubic_tiles = create_tiling_visualization(tiling_type='cubic', extent=2)\n",
    "\n",
    "# Visualize tiling\n",
    "fig = plt.figure(figsize=(10, 10))\n",
    "ax = fig.add_subplot(111, projection='3d')\n",
    "\n",
    "# Plot first few tiles\n",
    "for tile in cubic_tiles[:8]:  # Limit for clarity\n",
    "    vertices = np.array(tile.vertices)\n",
    "    edges = np.array(tile.edges)\n",
    "    \n",
    "    # Plot edges\n",
    "    for edge in edges:\n",
    "        points = vertices[edge]\n",
    "        ax.plot(points[:, 0], points[:, 1], points[:, 2],\n",
    "               'b-', alpha=0.6, linewidth=1)\n",
    "    \n",
    "    # Plot vertices\n",
    "    ax.scatter(vertices[:, 0], vertices[:, 1], vertices[:, 2],\n",
    "               c='red', s=30, alpha=0.8)\n",
    "\n",
    "ax.set_title('Cubic Tiling of 3D Space', fontsize=16)\n",
    "ax.set_xlabel('X')\n",
    "ax.set_ylabel('Y')\n",
    "ax.set_zlabel('Z')\n",
    "ax.set_box_aspect([1,1,1])\n",
    "\n",
    "# Set viewing angle\n",
    "ax.view_init(elev=20, azim=45)\n",
    "\n",
    "plt.tight_layout()\n",
    "plt.show()"
   ]
  },
  {
   "cell_type": "markdown",
   "metadata": {},
   "source": [
    "## 9. Advanced Visualization: Harmonic Decomposition"
   ]
  },
  {
   "cell_type": "markdown",
   "metadata": {},
   "source": [
    "### 9.1 Decomposing Complex Shapes"
   ]
  },
  {
   "cell_type": "code",
   "execution_count": null,
   "metadata": {},
   "outputs": [],
   "source": [
    "# Create an elongated ellipsoidal shape (like a bacterium)\n",
    "theta = np.linspace(0, np.pi, 20)\n",
    "phi = np.linspace(0, 2*np.pi, 40)\n",
    "theta_grid, phi_grid = np.meshgrid(theta, phi)\n",
    "\n",
    "# Elongated ellipsoid parameters\n",
    "a, b, c = 2.0, 0.7, 0.7  # Semi-axes\n",
    "\n",
    "# Generate vertices\n",
    "x = a * np.sin(theta_grid.flatten()) * np.cos(phi_grid.flatten())\n",
    "y = b * np.sin(theta_grid.flatten()) * np.sin(phi_grid.flatten())\n",
    "z = c * np.cos(theta_grid.flatten())\n",
    "ellipsoid_vertices = np.stack([x, y, z], axis=-1)\n",
    "\n",
    "# Perform harmonic decomposition\n",
    "decomposition = harmonic_viz.decompose_shape(ellipsoid_vertices)\n",
    "\n",
    "# Display decomposition results\n",
    "print(\"Shape Analysis Results:\")\n",
    "print(f\"Biological signature: {decomposition.biological_signature}\")\n",
    "print(f\"\\nDominant harmonic modes:\")\n",
    "for i, (l, m) in enumerate(decomposition.dominant_modes[:5]):\n",
    "    coeff = decomposition.coefficients[(l, m)]\n",
    "    print(f\"  {i+1}. Y_{{{l},{m}}}: magnitude = {abs(coeff):.3f}, phase = {np.angle(coeff):.3f}\")\n",
    "\n",
    "# Visualize decomposition\n",
    "fig = harmonic_viz.visualize_decomposition(decomposition, top_k=6)\n",
    "plt.show()"
   ]
  },
  {
   "cell_type": "markdown",
   "metadata": {},
   "source": [
    "## 10. Summary and Key Takeaways\n",
    "\n",
    "In this notebook, we've explored:\n",
    "\n",
    "1. **Platonic Solids**: The fundamental regular polytopes in 3D\n",
    "2. **Interactive Visualization**: Using pythreejs for 3D manipulation\n",
    "3. **Spherical Harmonics**: Mathematical basis for shape analysis\n",
    "4. **Biological Applications**: Modeling bacteria and organelles as deformed polytopes\n",
    "5. **Stereographic Projections**: Mapping 3D structures to 2D\n",
    "6. **Harmonic Signatures**: Unique shape fingerprints\n",
    "7. **Polytope Tilings**: Space-filling patterns\n",
    "\n",
    "### Key Insights:\n",
    "\n",
    "- **Shape-Function Relationship**: Biological structures often adopt polytope-like forms for optimal function\n",
    "- **Harmonic Analysis**: Provides a natural way to quantify and compare 3D shapes\n",
    "- **Symmetry**: Platonic solids embody fundamental symmetries found throughout nature\n",
    "- **Deformation**: Simple polytopes can model complex biological shapes through systematic deformations\n",
    "\n",
    "### Next Steps:\n",
    "\n",
    "- Explore the 24-cell and higher-dimensional polytopes\n",
    "- Apply these techniques to real microscopy data\n",
    "- Investigate the connection between harmonic signatures and biological function\n",
    "- Use polytope matching for bacterial segmentation tasks"
   ]
  },
  {
   "cell_type": "markdown",
   "metadata": {},
   "source": [
    "## 11. Interactive Playground\n",
    "\n",
    "Use this section to experiment with different parameters and visualizations:"
   ]
  },
  {
   "cell_type": "code",
   "execution_count": null,
   "metadata": {},
   "outputs": [],
   "source": [
    "# Interactive parameter exploration\n",
    "@widgets.interact(\n",
    "    polytope=['tetrahedron', 'cube', 'octahedron'],\n",
    "    l=(0, 6, 1),\n",
    "    m=(-6, 6, 1),\n",
    "    show_phase=True\n",
    ")\n",
    "def explore_harmonics(polytope='octahedron', l=2, m=0, show_phase=True):\n",
    "    # Get polytope vertices\n",
    "    vertices = np.array(platonic_solids[polytope].vertices)\n",
    "    \n",
    "    # Validate m range\n",
    "    m = max(-l, min(l, m))\n",
    "    \n",
    "    # Create visualization\n",
    "    fig = harmonic_viz.visualize_single_harmonic(\n",
    "        vertices, l=l, m=m, show_phase=show_phase\n",
    "    )\n",
    "    plt.show()"
   ]
  },
  {
   "cell_type": "code",
   "execution_count": null,
   "metadata": {},
   "outputs": [],
   "source": [
    "# Interactive bacterial deformation\n",
    "@widgets.interact(\n",
    "    elongation=(1.0, 3.0, 0.1),\n",
    "    bending=(0.0, 0.5, 0.05),\n",
    "    thickness_variation=(0.0, 0.3, 0.05)\n",
    ")\n",
    "def explore_deformations(elongation=2.0, bending=0.2, thickness_variation=0.1):\n",
    "    # Create deformed shape\n",
    "    deformed = visualize_bacteria_deformation(\n",
    "        rest_shape='octahedron',\n",
    "        elongation=elongation,\n",
    "        bending=bending,\n",
    "        thickness_variation=thickness_variation\n",
    "    )\n",
    "    \n",
    "    # Visualize\n",
    "    fig = plt.figure(figsize=(8, 8))\n",
    "    ax = fig.add_subplot(111, projection='3d')\n",
    "    \n",
    "    vertices = np.array(deformed.vertices)\n",
    "    edges = np.array(deformed.edges)\n",
    "    \n",
    "    # Plot\n",
    "    ax.scatter(vertices[:, 0], vertices[:, 1], vertices[:, 2],\n",
    "               c='lightgreen', s=150, alpha=0.8, edgecolors='darkgreen')\n",
    "    \n",
    "    for edge in edges:\n",
    "        points = vertices[edge]\n",
    "        ax.plot(points[:, 0], points[:, 1], points[:, 2],\n",
    "               'darkgreen', alpha=0.6, linewidth=2)\n",
    "    \n",
    "    ax.set_title(f'Elongation: {elongation:.1f}, Bending: {bending:.2f}', fontsize=14)\n",
    "    ax.set_box_aspect([1,1,1])\n",
    "    ax.set_xlim([-3, 3])\n",
    "    ax.set_ylim([-2, 2])\n",
    "    ax.set_zlim([-2, 2])\n",
    "    \n",
    "    plt.tight_layout()\n",
    "    plt.show()"
   ]
  }
 ],
 "metadata": {
  "kernelspec": {
   "display_name": "Python 3 (ipykernel)",
   "language": "python",
   "name": "python3"
  },
  "language_info": {
   "codemirror_mode": {
    "name": "ipython",
    "version": 3
   },
   "file_extension": ".py",
   "mimetype": "text/x-python",
   "name": "python",
   "nbconvert_exporter": "python",
   "pygments_lexer": "ipython3",
   "version": "3.9.0"
  }
 },
 "nbformat": 4,
 "nbformat_minor": 4
}